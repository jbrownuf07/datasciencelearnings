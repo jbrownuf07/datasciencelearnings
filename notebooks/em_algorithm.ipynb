{
 "cells": [
  {
   "cell_type": "markdown",
   "metadata": {},
   "source": [
    "# Expectation Maximization Example\n",
    "\n",
    "[Reference](https://www.kaggle.com/charel/learn-by-example-expectation-maximization)\n",
    "\n",
    "In statistics, the expection-maximization (EM) algorithm is an iterative method to try to find maximum likelihood or maximum a-posteriori (MAP) estimates of a parameters in statistical models, where the model depends on unobserved latent variables. The EM algorithm iterates between performing an expectation step (E-step), which creates a function for the expectation of the log-likelihood evaluated using the current estimate for the parameters, and a maximization step (M-step), which computes parameters maximizing the expected log-likelihood found in the E-step. These parameters are then used to determine the distribution of the latent variables in the next E-step."
   ]
  },
  {
   "cell_type": "code",
   "execution_count": 2,
   "metadata": {},
   "outputs": [],
   "source": [
    "# Import libraries\n",
    "\n",
    "# For plotting\n",
    "import matplotlib.pyplot as plt\n",
    "import seaborn as sns\n",
    "sns.set_style('white')\n",
    "%matplotlib inline\n",
    "\n",
    "# For matrix math\n",
    "import numpy as np\n",
    "\n",
    "# For normalization and probability density function computation\n",
    "from scipy import stats\n",
    "\n",
    "# For data preprocessing\n",
    "import pandas as pd"
   ]
  },
  {
   "cell_type": "code",
   "execution_count": null,
   "metadata": {},
   "outputs": [],
   "source": []
  }
 ],
 "metadata": {
  "kernelspec": {
   "display_name": "Python 3",
   "language": "python",
   "name": "python3"
  },
  "language_info": {
   "codemirror_mode": {
    "name": "ipython",
    "version": 3
   },
   "file_extension": ".py",
   "mimetype": "text/x-python",
   "name": "python",
   "nbconvert_exporter": "python",
   "pygments_lexer": "ipython3",
   "version": "3.7.4"
  }
 },
 "nbformat": 4,
 "nbformat_minor": 4
}
