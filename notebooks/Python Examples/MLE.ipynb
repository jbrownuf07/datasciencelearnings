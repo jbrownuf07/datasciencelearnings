{
 "cells": [
  {
   "cell_type": "markdown",
   "metadata": {},
   "source": [
    "# Maximum Likelihood Estimation: How it Works and Implementation in Python\n",
    "\n",
    "[Reference](https://towardsdatascience.com/maximum-likelihood-estimation-how-it-works-and-implementing-in-python-b0eb2efb360f)"
   ]
  },
  {
   "cell_type": "code",
   "execution_count": null,
   "metadata": {},
   "outputs": [],
   "source": []
  },
  {
   "cell_type": "code",
   "execution_count": null,
   "metadata": {},
   "outputs": [],
   "source": [
    "import pandas as pd\n",
    "import numpy as np\n",
    "\n",
    "def expectation_max(data, max_iter=1000):\n",
    "    data = pd.DataFrame(data)\n",
    "    mu0 = data.mean()\n",
    "    c0 = data.cov()\n",
    "    \n",
    "    for j in range(max_iter):\n",
    "        w = []\n",
    "        # Perform the E part of the algorithm\n",
    "        for i in data:\n",
    "            wk = (5 + len(data)) / (5 + np.dot(np.dot(np.transpose(i - mu0), np.linalg.inv(c0)), (i - mu0)))\n",
    "            w.append(wk)\n",
    "            w = np.array(w)\n",
    "            \n",
    "        # Perform the M part of the algorithm\n",
    "        mu = (np.dot(w, data)) / (np.sum(w))\n",
    "        \n",
    "        c = 0\n",
    "        for i in range(len(data)):\n",
    "            c += w[i] * np.dot((data[i] - mu0), (np.transpose(data[i] - mu0)))\n",
    "            cov = c / len(data)\n",
    "            \n",
    "            mu0 = mu\n",
    "            c0 = cov\n",
    "        \n",
    "        return mu0, c0"
   ]
  }
 ],
 "metadata": {
  "kernelspec": {
   "display_name": "Python 3",
   "language": "python",
   "name": "python3"
  },
  "language_info": {
   "codemirror_mode": {
    "name": "ipython",
    "version": 3
   },
   "file_extension": ".py",
   "mimetype": "text/x-python",
   "name": "python",
   "nbconvert_exporter": "python",
   "pygments_lexer": "ipython3",
   "version": "3.7.4"
  }
 },
 "nbformat": 4,
 "nbformat_minor": 4
}
