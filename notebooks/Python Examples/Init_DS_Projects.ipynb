{
 "cells": [
  {
   "cell_type": "code",
   "execution_count": 9,
   "metadata": {},
   "outputs": [],
   "source": [
    "import os\n",
    "import platform\n",
    "from platform import python_version\n",
    "\n",
    "import jupyterlab\n",
    "import pandas as pd\n",
    "import numpy as np"
   ]
  },
  {
   "cell_type": "code",
   "execution_count": 15,
   "metadata": {},
   "outputs": [
    {
     "name": "stdout",
     "output_type": "stream",
     "text": [
      "System\n",
      "os name:\tposix\n",
      "system: \tDarwin\n",
      "release:\t19.2.0\n",
      "\n",
      "Python\n",
      "version:\t3.7.4\n",
      "\n",
      "Python Packages\n",
      "jupyterlab:\t1.1.4\n",
      "pandas: \t0.25.1\n",
      "numpy:  \t1.17.2\n"
     ]
    }
   ],
   "source": [
    "print('System')\n",
    "print(f'os name:\\t{os.name}')\n",
    "print(f'system: \\t{platform.system()}')\n",
    "print(f'release:\\t{platform.release()}')\n",
    "print('\\nPython')\n",
    "print(f'version:\\t{python_version()}')\n",
    "print('\\nPython Packages')\n",
    "print(f'jupyterlab:\\t{jupyterlab.__version__}')\n",
    "print(f'pandas: \\t{pd.__version__}')\n",
    "print(f'numpy:  \\t{np.__version__}')"
   ]
  },
  {
   "cell_type": "code",
   "execution_count": null,
   "metadata": {},
   "outputs": [],
   "source": []
  }
 ],
 "metadata": {
  "kernelspec": {
   "display_name": "Python 3",
   "language": "python",
   "name": "python3"
  },
  "language_info": {
   "codemirror_mode": {
    "name": "ipython",
    "version": 3
   },
   "file_extension": ".py",
   "mimetype": "text/x-python",
   "name": "python",
   "nbconvert_exporter": "python",
   "pygments_lexer": "ipython3",
   "version": "3.7.4"
  }
 },
 "nbformat": 4,
 "nbformat_minor": 4
}
